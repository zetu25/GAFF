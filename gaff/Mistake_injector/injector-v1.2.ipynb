{
 "cells": [
  {
   "cell_type": "markdown",
   "metadata": {},
   "source": [
    "#### Imports :"
   ]
  },
  {
   "cell_type": "code",
   "execution_count": 1,
   "metadata": {},
   "outputs": [],
   "source": [
    "import json\n",
    "import os\n",
    "import random\n",
    "\n",
    "from errorTyping import genErrorTyping\n",
    "from errorPhoneme import genErrorPhoneme\n",
    "from inversion import genInversionLetterKeypad\n",
    "from oversight import genOversightLetter"
   ]
  },
  {
   "cell_type": "markdown",
   "metadata": {},
   "source": [
    "#### [ ! ] Variables (toujours vérifier avant lancement du notebook) :"
   ]
  },
  {
   "cell_type": "code",
   "execution_count": 2,
   "metadata": {},
   "outputs": [
    {
     "name": "stdout",
     "output_type": "stream",
     "text": [
      "Loaded dictionary.\n"
     ]
    }
   ],
   "source": [
    "with open('DESCRISCO/DES.txt') as json_file:\n",
    "    dico = json.load(json_file)\n",
    "print('Loaded dictionary.')\n",
    "\n",
    "nameOfHealthyCorpus = 'inputs/wikiTest'\n",
    "# nameOfCorpusHealthyAndSickWordCorpus = 'compromisedCorpus.csv'\n",
    "nameOfCorpusHealthyAndSickWordCorpus = 'results/CC-resultTest.txt'\n",
    "errorLigneGenCorpus = 'results/rejected-sentences'\n",
    "\n",
    "resultFile = open(nameOfCorpusHealthyAndSickWordCorpus, \"a\")"
   ]
  },
  {
   "cell_type": "markdown",
   "metadata": {},
   "source": [
    "#### Méthodes :"
   ]
  },
  {
   "cell_type": "code",
   "execution_count": 3,
   "metadata": {},
   "outputs": [],
   "source": [
    "def choiceConfigKeyboard():\n",
    "    repository = \"disposition_clavier/\"                 # repertoire où réside les fichiers dictionnaires\n",
    "    listFileName = os.listdir(repository)               # fonction permettant de lister l'ensemble des fichiers dans le repertoire\n",
    "    print(\"This keyboard config are available :\")\n",
    "    i = 0\n",
    "\n",
    "    for fileName in listFileName:                       # pour chaque nom de fichier présent dans la liste des fichiers listé précèdement\n",
    "        indice = str(i)\n",
    "        print(\"[\" + indice + \"]: \" + fileName)          # affichage de ces fichiers avec leur numéro dans la liste\n",
    "        i += 1\n",
    "\n",
    "    choice = input(\"Thanks to choose keyboard disposition: [default: 0] \")\n",
    "\n",
    "    if choice in ('0', '1', '2', '3', '4', '5', '6', '7', '8', '9') and isinstance(choice, int) is False:   # en admettant que la liste ne peux etre plus grande que 9\n",
    "        chc = int(choice)                               # formate le choix de l'utilisateur en INT\n",
    "        choiceKeyboard = listFileName[chc]\n",
    "        return choiceKeyboard                           # en fonction du choix donné par le user, affichage du fichier concerné\n",
    "    if choice == '':\n",
    "        choiceKeyboard = listFileName[0]                # si vide, alors application du choix par défaut : 0, donc le premier de la liste\n",
    "        return choiceKeyboard\n",
    "    else:\n",
    "        print(\"It's not what is expected ! retry ...\")  # si cette condition est rempli c'est que l'utilmisateur a tenté de rentrer un caractère nom attendu\n",
    "        choiceConfigKeyboard()                          # on lui demande donc de reformuler sa saisie"
   ]
  },
  {
   "cell_type": "code",
   "execution_count": 4,
   "metadata": {},
   "outputs": [],
   "source": [
    "def splitText(text):\n",
    "    tmpTextForTreatment = text.split(' ')\n",
    "    return tmpTextForTreatment"
   ]
  },
  {
   "cell_type": "code",
   "execution_count": 5,
   "metadata": {},
   "outputs": [],
   "source": [
    "def freqWordWithMist():\n",
    "    nWord = input(\"\\nWhat will be the frequency of words with mistakes ?\\n[min: 1; max: 9; default: 1] \")\n",
    "    print(\"\\n\")\n",
    "\n",
    "    if nWord == \"\":\n",
    "        nWord = 1\n",
    "        return nWord\n",
    "    if nWord not in ('1', '2', '3', '4', '5', '6', '7', '8', '9'):\n",
    "        print(\"Input value incorrect. Must be integer or in the range given !\")\n",
    "        freqWordWithMist()\n",
    "    else:\n",
    "        return nWord"
   ]
  },
  {
   "cell_type": "code",
   "execution_count": 6,
   "metadata": {},
   "outputs": [],
   "source": [
    "def randomChoiceinTblOfWord(tblOfWrd):\n",
    "    r = random.randint(0, tblOfWrd.__len__() - 1)\n",
    "    return tblOfWrd[r]"
   ]
  },
  {
   "cell_type": "code",
   "execution_count": 7,
   "metadata": {},
   "outputs": [],
   "source": [
    "def saveResult(healhyText, cancerText): # idOfHealthyText, healhyText, cancerText):\n",
    "\n",
    "    ###resultFile.write(idOfHealthyText)\n",
    "    ###resultFile.write(\"µ\")\n",
    "    resultFile.write(healhyText)\n",
    "    resultFile.write('.')\n",
    "    resultFile.write(\"\\t\")\n",
    "    resultFile.write(cancerText)\n",
    "    resultFile.write('.')\n",
    "    resultFile.write(\"\\n\")"
   ]
  },
  {
   "cell_type": "code",
   "execution_count": 8,
   "metadata": {},
   "outputs": [],
   "source": [
    "def generateErrorInWord(kbrd, frequency, text):\n",
    "    \n",
    "    free = False\n",
    "    \n",
    "    for indice in range(0, text.__len__(), frequency):\n",
    "\n",
    "        r = random.randint(1, 4)\n",
    "        # print('r : ', r)\n",
    "        tblOfWordReturn = []\n",
    "        # print('mot en cours : ', text[indice])\n",
    "            \n",
    "        switch = {\n",
    "            1: genErrorTyping(dico, kbrd, text[indice]),\n",
    "            2: genInversionLetterKeypad(dico, text[indice]),\n",
    "            3: genOversightLetter(dico, text[indice]),\n",
    "            4: genErrorPhoneme(dico, text[indice])\n",
    "        }\n",
    "        tblOfWordReturn=switch.get(r)\n",
    "        \n",
    "        if tblOfWordReturn == [''] or not tblOfWordReturn:\n",
    "            text[indice] = text[indice]\n",
    "        else:\n",
    "            text[indice] = randomChoiceinTblOfWord(tblOfWordReturn)\n",
    "            free = True\n",
    "\n",
    "    if free == True:\n",
    "        textToShow = \" \".join(text)\n",
    "        # print('textToShow : ', textToShow)\n",
    "        return textToShow\n",
    "    \n",
    "    else:\n",
    "        print('No change noted')\n",
    "        textToShow = generateErrorInWord(kbrd, frequency, text)\n",
    "        return textToShow"
   ]
  },
  {
   "cell_type": "markdown",
   "metadata": {},
   "source": [
    "### Main :"
   ]
  },
  {
   "cell_type": "code",
   "execution_count": 9,
   "metadata": {
    "scrolled": false
   },
   "outputs": [
    {
     "name": "stdout",
     "output_type": "stream",
     "text": [
      "This keyboard config are available :\n",
      "[0]: azerty-numberPad_hori.txt\n",
      "[1]: azerty-numberPad_hori-verti-diag.txt\n",
      "[2]: azerty_hori-verti.txt\n",
      "[3]: azerty_hori.txt\n",
      "[4]: azerty-numberPad_hori-verti.txt\n",
      "[5]: azerty_hori-verti-diag.txt\n",
      "Thanks to choose keyboard disposition: [default: 0] \n",
      "azerty-numberPad_hori.txt choosed\n",
      "\n",
      "What will be the frequency of words with mistakes ?\n",
      "[min: 1; max: 9; default: 1] \n",
      "\n",
      "\n",
      "Before :  Oscar du cinéma\n",
      "Text with mistake :  Osacr du cinéma \n",
      "\n",
      "Before :  Démocratie directe\n",
      "Text with mistake :  Dméocratie directe \n",
      "\n",
      "Before :  Guy Parmelin\n",
      "Text with mistake :  Gu Parmelin \n",
      "\n",
      "Before :  Nadja Pieren\n",
      "Text with mistake :  adja Pieren \n",
      "\n",
      "Before :  Politique familiale\n",
      "Text with mistake :  Paulitique familiale \n",
      "\n",
      "\n",
      "\n",
      "Finish !\n"
     ]
    }
   ],
   "source": [
    "if __name__ == '__main__':\n",
    "\n",
    "    keyboard = str(choiceConfigKeyboard())\n",
    "    print(keyboard + \" choosed\")\n",
    "\n",
    "    nWord = int(freqWordWithMist())\n",
    "    jsonToLoad = open(nameOfHealthyCorpus, 'r')\n",
    "    \n",
    "    for ligne in jsonToLoad:\n",
    "\n",
    "        j = 0\n",
    "        try:\n",
    "            jsonsLine = json.loads(ligne)\n",
    "            lId = jsonsLine['id']\n",
    "            leText = jsonsLine['text']\n",
    "            if len(leText) < 50 and len(leText) > 5:\n",
    "                print('Before : ', leText)\n",
    "                initialText = splitText(leText)\n",
    "                if j == 0:\n",
    "                    for i in range(1): # nombre de fois que nous passons la phrase dans le générateur de fautes\n",
    "                        textWithMist = generateErrorInWord(keyboard, nWord, initialText)\n",
    "                        print('Text with mistake : ', textWithMist, '\\n')\n",
    "                        saveResult(leText, textWithMist)\n",
    "                        #nWord += 1\n",
    "                    j += 1\n",
    "                else:\n",
    "                    # saveResult(lId, leText, leText)\n",
    "                    j += 1\n",
    "                \n",
    "                if j == 3:\n",
    "                    j = 0\n",
    "                \n",
    "        except:\n",
    "            errorFile = open(errorLigneGenCorpus, \"a\")\n",
    "            errorFile.write(json.dumps(jsonsLine))\n",
    "            errorFile.write('\\n')\n",
    "            errorFile.close()\n",
    "            # print('-----ERROR-----\\n', jsonsLine, '\\n----- END -----')\n",
    "\n",
    "    resultFile.close()\n",
    "    print(\"\\n\\nFinish !\")"
   ]
  }
 ],
 "metadata": {
  "kernelspec": {
   "display_name": "Python 3",
   "language": "python",
   "name": "python3"
  },
  "language_info": {
   "codemirror_mode": {
    "name": "ipython",
    "version": 3
   },
   "file_extension": ".py",
   "mimetype": "text/x-python",
   "name": "python",
   "nbconvert_exporter": "python",
   "pygments_lexer": "ipython3",
   "version": "3.6.8"
  }
 },
 "nbformat": 4,
 "nbformat_minor": 2
}
